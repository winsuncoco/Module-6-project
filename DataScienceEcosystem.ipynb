{
 "cells": [
  {
   "cell_type": "markdown",
   "id": "a00e72c6-e184-4afb-a286-182c9e2e2643",
   "metadata": {},
   "source": [
    "#Data Science Tools and Ecosystem"
   ]
  },
  {
   "cell_type": "markdown",
   "id": "e9e618e5-333b-4ea8-9f1e-f084cbbad5ae",
   "metadata": {},
   "source": [
    "In this notebook, Data Science Tools and Ecosystem are summarized."
   ]
  },
  {
   "cell_type": "markdown",
   "id": "acc81311-90ce-48e3-b63b-af400b8fe392",
   "metadata": {},
   "source": [
    "Some of the popular languages that Data Scientists use are:\n",
    "1. Python\n",
    "2. R\n",
    "3. SQL\n",
    "4. Java\n",
    "5. Julia"
   ]
  },
  {
   "cell_type": "markdown",
   "id": "15162da4-f59b-4337-b18a-666599ba1894",
   "metadata": {},
   "source": [
    "Some of the commonly used libraries used by Data Scientists include:\n",
    "1. NumPy\n",
    "2. Pandas\n",
    "3. SciPy\n",
    "4. TensorFlow\n",
    "5. Keras\n",
    "6. PyTorch\n",
    "7. Plotly\n",
    "8. Scikit-learn"
   ]
  },
  {
   "cell_type": "markdown",
   "id": "430cb64d-a4cb-4c3b-a33b-f4fdf6f6f78b",
   "metadata": {},
   "source": [
    "|Data Science Tools|\n",
    "|-------------|\n",
    "|Jupyter Notebook| \n",
    "|Apache Spark|\n",
    "|Apache Hadoop|"
   ]
  },
  {
   "cell_type": "markdown",
   "id": "5c63a83b-40f6-4ffe-9bab-905e320657ee",
   "metadata": {},
   "source": [
    "### Below are a few examples of evaluating arithmetic expressions in Python\n"
   ]
  },
  {
   "cell_type": "code",
   "execution_count": 13,
   "id": "943187a0-739b-4dee-94a8-2bf122914286",
   "metadata": {},
   "outputs": [
    {
     "data": {
      "text/plain": [
       "17"
      ]
     },
     "execution_count": 13,
     "metadata": {},
     "output_type": "execute_result"
    }
   ],
   "source": [
    "# This a simple arithmetic expression to mutiply then add integers\n",
    "(3*4)+5"
   ]
  },
  {
   "cell_type": "code",
   "execution_count": 15,
   "id": "998e3bf2-bb4e-4ad4-8a3e-9744b821c983",
   "metadata": {},
   "outputs": [
    {
     "data": {
      "text/plain": [
       "3.3333333333333335"
      ]
     },
     "execution_count": 15,
     "metadata": {},
     "output_type": "execute_result"
    }
   ],
   "source": [
    "# This will convert 200 minutes to hours by diving by 60\n",
    "200/60"
   ]
  },
  {
   "cell_type": "markdown",
   "id": "40b5dd49-e542-4707-ad67-7fe5ef8e45be",
   "metadata": {},
   "source": [
    "**Objectives:**\n",
    "List popular languages for Data Science\n",
    "- Python\n",
    "- R\n",
    "- Scala\n",
    "- Julia\n",
    "- JavaScript"
   ]
  },
  {
   "cell_type": "markdown",
   "id": "26433cba-a8c0-4d87-87b0-8f28c64c779c",
   "metadata": {},
   "source": [
    "## Author \n",
    "Jingjing"
   ]
  },
  {
   "cell_type": "code",
   "execution_count": null,
   "id": "001cdc43-b909-4b44-b2cc-63d6e591a69b",
   "metadata": {},
   "outputs": [],
   "source": []
  }
 ],
 "metadata": {
  "kernelspec": {
   "display_name": "Python [conda env:base] *",
   "language": "python",
   "name": "conda-base-py"
  },
  "language_info": {
   "codemirror_mode": {
    "name": "ipython",
    "version": 3
   },
   "file_extension": ".py",
   "mimetype": "text/x-python",
   "name": "python",
   "nbconvert_exporter": "python",
   "pygments_lexer": "ipython3",
   "version": "3.11.7"
  }
 },
 "nbformat": 4,
 "nbformat_minor": 5
}
